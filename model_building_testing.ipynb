{
 "cells": [
  {
   "cell_type": "code",
   "execution_count": 1,
   "metadata": {},
   "outputs": [],
   "source": [
    "import pandas as pd\n",
    "import numpy as np\n",
    "\n",
    "from sklearn.model_selection import train_test_split\n",
    "from sklearn.preprocessing import StandardScaler\n",
    "from sklearn.linear_model import LogisticRegression\n",
    "from sklearn.ensemble import RandomForestClassifier\n",
    "from xgboost import XGBClassifier\n",
    "\n",
    "\n",
    "from sklearn.model_selection import GridSearchCV\n",
    "from imblearn.over_sampling import RandomOverSampler\n",
    "\n",
    "from helpers import (\n",
    "    report_model_cv_metrics, \n",
    "    report_oversampling_model_cv_metrics\n",
    ")\n",
    "from sklearn.metrics import (\n",
    "    accuracy_score, recall_score, \n",
    "    precision_score, f1_score,\n",
    "    confusion_matrix\n",
    ")\n",
    "\n",
    "import matplotlib.pyplot as plt\n",
    "import seaborn as sns"
   ]
  },
  {
   "cell_type": "code",
   "execution_count": 2,
   "metadata": {},
   "outputs": [],
   "source": [
    "df = pd.read_csv(\"cleaned_case_study_data.csv\", dtype={\"lead_segment_20_c\":\"str\"})\n"
   ]
  },
  {
   "cell_type": "code",
   "execution_count": 3,
   "metadata": {},
   "outputs": [
    {
     "name": "stdout",
     "output_type": "stream",
     "text": [
      "<class 'pandas.core.frame.DataFrame'>\n",
      "RangeIndex: 100000 entries, 0 to 99999\n",
      "Data columns (total 8 columns):\n",
      " #   Column                                       Non-Null Count  Dtype  \n",
      "---  ------                                       --------------  -----  \n",
      " 0   estimated_income_min_c                       23226 non-null  float64\n",
      " 1   estimated_income_max_c                       23667 non-null  float64\n",
      " 2   economic_stability_indicator_c               24466 non-null  float64\n",
      " 3   total_liquid_investible_assets_c             24226 non-null  float64\n",
      " 4   atp_value                                    87246 non-null  float64\n",
      " 5   affluence_index_value                        75459 non-null  float64\n",
      " 6   income_360_value                             82083 non-null  float64\n",
      " 7   vantage_score_neighborhood_risk_score_value  87240 non-null  float64\n",
      "dtypes: float64(8)\n",
      "memory usage: 6.1 MB\n"
     ]
    }
   ],
   "source": [
    "df[[\"estimated_income_min_c\",\n",
    "    \"estimated_income_max_c\",\n",
    "    \"economic_stability_indicator_c\",\n",
    "    \"total_liquid_investible_assets_c\",\n",
    "    \"atp_value\", \"affluence_index_value\",\n",
    "    \"income_360_value\",\n",
    "    \"vantage_score_neighborhood_risk_score_value\"]].info()"
   ]
  },
  {
   "cell_type": "code",
   "execution_count": 4,
   "metadata": {},
   "outputs": [],
   "source": [
    "# The 3rd party estimates are often missing. \n",
    "# So do initial analysis without these features.\n",
    "\n",
    "df = df.drop(columns=[\n",
    "    \"estimated_income_min_c\",\n",
    "    \"estimated_income_max_c\",\n",
    "    \"economic_stability_indicator_c\",\n",
    "    \"total_liquid_investible_assets_c\",\n",
    "    \"atp_value\", \"affluence_index_value\",\n",
    "    \"income_360_value\",\n",
    "    \"vantage_score_neighborhood_risk_score_value\"\n",
    "    ])"
   ]
  },
  {
   "cell_type": "code",
   "execution_count": 5,
   "metadata": {},
   "outputs": [],
   "source": [
    "# Intially drop those missing data.\n",
    "\n",
    "df = df.dropna()"
   ]
  },
  {
   "cell_type": "code",
   "execution_count": 6,
   "metadata": {},
   "outputs": [
    {
     "name": "stdout",
     "output_type": "stream",
     "text": [
      "<class 'pandas.core.frame.DataFrame'>\n",
      "Int64Index: 88340 entries, 0 to 99999\n",
      "Data columns (total 25 columns):\n",
      " #   Column                          Non-Null Count  Dtype  \n",
      "---  ------                          --------------  -----  \n",
      " 0   Unnamed: 0                      88340 non-null  int64  \n",
      " 1   lead_number                     88340 non-null  int64  \n",
      " 2   apts_in_next_seven_c            88340 non-null  float64\n",
      " 3   lead_segment_20_c               88340 non-null  object \n",
      " 4   distance_to_center              88340 non-null  float64\n",
      " 5   dental_condition                88340 non-null  object \n",
      " 6   has_email                       88340 non-null  int64  \n",
      " 7   created_date                    88340 non-null  object \n",
      " 8   scheduled_time_c                88340 non-null  object \n",
      " 9   apt_date_c                      88340 non-null  object \n",
      " 10  apt_hour                        88340 non-null  int64  \n",
      " 11  sched_source                    88340 non-null  object \n",
      " 12  prev_no_shows                   88340 non-null  int64  \n",
      " 13  first_campaign_type             88340 non-null  object \n",
      " 14  last_campaign_type              88340 non-null  object \n",
      " 15  num_campaigns                   88340 non-null  float64\n",
      " 16  in_market                       88340 non-null  float64\n",
      " 17  created_by_channel              88340 non-null  object \n",
      " 18  is_arrived                      88340 non-null  int64  \n",
      " 19  distance_to_center_conslidated  88340 non-null  float64\n",
      " 20  dental_condition_consolidated   88340 non-null  object \n",
      " 21  days_created_to_scheduling      88340 non-null  float64\n",
      " 22  days_created_to_appointment     88340 non-null  float64\n",
      " 23  days_scheduling_to_appointment  88340 non-null  float64\n",
      " 24  apt_date_day                    88340 non-null  object \n",
      "dtypes: float64(8), int64(6), object(11)\n",
      "memory usage: 17.5+ MB\n"
     ]
    }
   ],
   "source": [
    "df.info()"
   ]
  },
  {
   "cell_type": "code",
   "execution_count": 7,
   "metadata": {},
   "outputs": [],
   "source": [
    "# Split dataset - 80% train and 20% test.\n",
    "\n",
    "df_train, df_test = train_test_split(df, test_size=0.2, random_state=13)"
   ]
  },
  {
   "cell_type": "code",
   "execution_count": 8,
   "metadata": {},
   "outputs": [
    {
     "name": "stdout",
     "output_type": "stream",
     "text": [
      "Percentage of arrivals: 25.6%\n"
     ]
    }
   ],
   "source": [
    "# Understand the imbalanced distribution of the target.\n",
    "\n",
    "print(f\"Percentage of arrivals: {len(df_train.query('is_arrived == 1')) / len(df_train):.1%}\")"
   ]
  },
  {
   "cell_type": "code",
   "execution_count": null,
   "metadata": {},
   "outputs": [],
   "source": []
  },
  {
   "attachments": {},
   "cell_type": "markdown",
   "metadata": {},
   "source": [
    "## Start with a Logistic Regression.\n",
    "\n",
    "Keeping it simple and taking an educated guess at the best features."
   ]
  },
  {
   "cell_type": "code",
   "execution_count": 9,
   "metadata": {},
   "outputs": [],
   "source": [
    "# Gather features - transforming categorical and scaling numerical.\n",
    "# Gather target.\n",
    "\n",
    "X_categorical = df_train[[\n",
    "    \"dental_condition_consolidated\", \"has_email\", \"apt_date_day\"\n",
    "    ]]\n",
    "X_categorical = pd.get_dummies(X_categorical, drop_first=True)\n",
    "\n",
    "X_numeric = df_train[[\n",
    "    \"distance_to_center_conslidated\", \"apt_hour\", \n",
    "    \"days_created_to_scheduling\", \"num_campaigns\"\n",
    "    ]]\n",
    "scaler = StandardScaler()\n",
    "X_numeric = scaler.fit_transform(X_numeric)\n",
    "\n",
    "X = np.concatenate((X_numeric, X_categorical), axis=1)\n",
    "\n",
    "\n",
    "y = df_train[\"is_arrived\"]\n",
    "\n"
   ]
  },
  {
   "cell_type": "code",
   "execution_count": 10,
   "metadata": {},
   "outputs": [
    {
     "name": "stdout",
     "output_type": "stream",
     "text": [
      "Accuracy: 74.8%\n",
      "Recall: 4.0%\n",
      "Precision: 60.5%\n",
      "F1: 7.5%\n"
     ]
    }
   ],
   "source": [
    "# Basic logistic regression performance.\n",
    "\n",
    "print(report_model_cv_metrics(model=LogisticRegression(), X = X, y=y))"
   ]
  },
  {
   "cell_type": "code",
   "execution_count": 11,
   "metadata": {},
   "outputs": [
    {
     "name": "stdout",
     "output_type": "stream",
     "text": [
      "NEW percentage of 1's: 42.9%\n",
      "Accuracy: 69.2%\n",
      "Recall: 32.6%\n",
      "Precision: 38.1%\n",
      "F1: 35.1%\n"
     ]
    }
   ],
   "source": [
    "# Because of imbalance in target, try oversampling.\n",
    "\n",
    "sample_model = RandomOverSampler(sampling_strategy=0.75, random_state=13)\n",
    "\n",
    "print(report_oversampling_model_cv_metrics(model=LogisticRegression(), \n",
    "                                           X = X, y=y,\n",
    "                                           sampling_model=sample_model))"
   ]
  },
  {
   "cell_type": "code",
   "execution_count": null,
   "metadata": {},
   "outputs": [],
   "source": []
  },
  {
   "attachments": {},
   "cell_type": "markdown",
   "metadata": {},
   "source": [
    "## Build a Random Forest model.\n",
    "\n",
    "Include more potential features since model will do feature selection."
   ]
  },
  {
   "cell_type": "code",
   "execution_count": 12,
   "metadata": {},
   "outputs": [],
   "source": [
    "# Gather features - transform categorical.\n",
    "# Gather target.\n",
    "\n",
    "X_categorical = df_train[[\n",
    "    \"lead_segment_20_c\", \"dental_condition_consolidated\", \n",
    "    \"has_email\", \"in_market\", \"created_by_channel\",\n",
    "    \"sched_source\", \"apt_date_day\"\n",
    "    ]]\n",
    "X_categorical = pd.get_dummies(X_categorical, drop_first=True)\n",
    "\n",
    "X_numeric = df_train[[\n",
    "    \"apts_in_next_seven_c\", \"distance_to_center_conslidated\", \n",
    "    \"apt_hour\", \"num_campaigns\",\n",
    "    \"days_created_to_scheduling\", \"days_created_to_appointment\", \n",
    "    \"days_scheduling_to_appointment\"\n",
    "    ]]\n",
    "\n",
    "X = pd.merge(X_numeric, X_categorical, left_index=True, right_index=True)\n",
    "\n",
    "\n",
    "y = df_train[\"is_arrived\"]\n",
    "\n"
   ]
  },
  {
   "cell_type": "code",
   "execution_count": 13,
   "metadata": {},
   "outputs": [
    {
     "name": "stdout",
     "output_type": "stream",
     "text": [
      "Accuracy: 78.0%\n",
      "Recall: 29.1%\n",
      "Precision: 65.7%\n",
      "F1: 40.3%\n"
     ]
    }
   ],
   "source": [
    "# Basic random forest model.\n",
    "rand_forest = RandomForestClassifier(random_state=13)\n",
    "\n",
    "print(report_model_cv_metrics(model=rand_forest, X = X, y=y))"
   ]
  },
  {
   "cell_type": "code",
   "execution_count": 14,
   "metadata": {},
   "outputs": [
    {
     "name": "stdout",
     "output_type": "stream",
     "text": [
      "NEW percentage of 1's: 42.9%\n",
      "Accuracy: 77.7%\n",
      "Recall: 34.9%\n",
      "Precision: 61.1%\n",
      "F1: 44.4%\n"
     ]
    }
   ],
   "source": [
    "# Because of imbalance in target, try oversampling again.\n",
    "\n",
    "sample_model = RandomOverSampler(sampling_strategy=0.75, random_state=13)\n",
    "\n",
    "print(report_oversampling_model_cv_metrics(model=rand_forest, \n",
    "                                           X = X, y=y,\n",
    "                                           sampling_model=sample_model))"
   ]
  },
  {
   "attachments": {},
   "cell_type": "markdown",
   "metadata": {},
   "source": [
    "#### Grid search for some hyperparameter tuning."
   ]
  },
  {
   "cell_type": "code",
   "execution_count": 15,
   "metadata": {},
   "outputs": [
    {
     "name": "stdout",
     "output_type": "stream",
     "text": [
      "Fitting 2 folds for each of 48 candidates, totalling 96 fits\n",
      "Best Precision Score: 73.6%\n",
      "{'max_depth': 20, 'max_features': 'log2', 'min_samples_leaf': 7, 'min_samples_split': 2, 'n_estimators': 100}\n"
     ]
    }
   ],
   "source": [
    "rand_forest = RandomForestClassifier(random_state=13)\n",
    "\n",
    "parameters = {\n",
    "    \"n_estimators\": [50, 100],\n",
    "    \"max_features\": [\"sqrt\", \"log2\", None],\n",
    "    \"max_depth\": [None, 20],\n",
    "    \"min_samples_leaf\": [1, 7],\n",
    "    \"min_samples_split\": [2, 10],\n",
    "}\n",
    "\n",
    "\n",
    "rand_forest_grid = GridSearchCV(\n",
    "    estimator=rand_forest,\n",
    "    param_grid=parameters,\n",
    "    scoring=\"precision\", #false pos rather than false neg are the bigger burden. \n",
    "    n_jobs=-1,\n",
    "    cv=2,\n",
    "    verbose=True\n",
    "    )\n",
    "\n",
    "rand_forest_grid.fit(X, y)\n",
    "\n",
    "print(f\"Best Precision Score: {abs(rand_forest_grid.best_score_):.1%}\")\n",
    "print(rand_forest_grid.best_params_)"
   ]
  },
  {
   "cell_type": "code",
   "execution_count": 16,
   "metadata": {},
   "outputs": [
    {
     "name": "stdout",
     "output_type": "stream",
     "text": [
      "Accuracy: 78.2%\n",
      "Recall: 23.6%\n",
      "Precision: 73.0%\n",
      "F1: 35.6%\n"
     ]
    }
   ],
   "source": [
    "# Test out tuned model. \n",
    "\n",
    "rand_forest_tuned = RandomForestClassifier(\n",
    "    n_estimators=100,\n",
    "    max_features=\"log2\",\n",
    "    max_depth=20,\n",
    "    min_samples_leaf=7,\n",
    "    min_samples_split=2,\n",
    "    random_state=13\n",
    "    )\n",
    "\n",
    "\n",
    "print(report_model_cv_metrics(model=rand_forest_tuned, X = X, y=y))\n"
   ]
  },
  {
   "cell_type": "code",
   "execution_count": null,
   "metadata": {},
   "outputs": [],
   "source": []
  },
  {
   "attachments": {},
   "cell_type": "markdown",
   "metadata": {},
   "source": [
    "## Build an XG Boost Model.\n",
    "\n",
    "First compare to previous models and then explore adding 3rd party features since model can handle missing data."
   ]
  },
  {
   "cell_type": "code",
   "execution_count": 17,
   "metadata": {},
   "outputs": [],
   "source": [
    "# Gather features - transforming categorical.\n",
    "# Gather target.\n",
    "\n",
    "X_categorical = df_train[[\n",
    "    \"lead_segment_20_c\", \"dental_condition_consolidated\", \n",
    "    \"has_email\", \"in_market\", \"created_by_channel\",\n",
    "    \"sched_source\", \"apt_date_day\"\n",
    "    ]]\n",
    "X_categorical = pd.get_dummies(X_categorical, drop_first=True)\n",
    "\n",
    "X_numeric = df_train[[\n",
    "    \"apts_in_next_seven_c\", \"distance_to_center_conslidated\", \n",
    "    \"apt_hour\", \"num_campaigns\",\n",
    "    \"days_created_to_scheduling\", \"days_created_to_appointment\", \n",
    "    \"days_scheduling_to_appointment\"\n",
    "    ]]\n",
    "\n",
    "X = pd.merge(X_numeric, X_categorical, left_index=True, right_index=True)\n",
    "\n",
    "\n",
    "y = df_train[\"is_arrived\"]\n"
   ]
  },
  {
   "cell_type": "code",
   "execution_count": 18,
   "metadata": {},
   "outputs": [
    {
     "name": "stdout",
     "output_type": "stream",
     "text": [
      "Accuracy: 78.8%\n",
      "Recall: 34.0%\n",
      "Precision: 66.9%\n",
      "F1: 45.1%\n"
     ]
    }
   ],
   "source": [
    "# Basic XG Boost model.\n",
    "\n",
    "xgb_model = XGBClassifier(random_state=13)\n",
    "\n",
    "print(report_model_cv_metrics(model=xgb_model, X = X, y=y))"
   ]
  },
  {
   "cell_type": "code",
   "execution_count": 19,
   "metadata": {},
   "outputs": [
    {
     "name": "stdout",
     "output_type": "stream",
     "text": [
      "NEW percentage of 1's: 42.9%\n",
      "Accuracy: 75.6%\n",
      "Recall: 51.3%\n",
      "Precision: 52.4%\n",
      "F1: 51.8%\n"
     ]
    }
   ],
   "source": [
    "# XG Boost model utilizing oversampling.\n",
    "\n",
    "xgb_model = XGBClassifier(random_state=13)\n",
    "\n",
    "sample_model = RandomOverSampler(sampling_strategy=0.75, random_state=13)\n",
    "\n",
    "print(report_oversampling_model_cv_metrics(model=xgb_model, \n",
    "                                           X = X, y=y,\n",
    "                                           sampling_model=sample_model))"
   ]
  },
  {
   "attachments": {},
   "cell_type": "markdown",
   "metadata": {},
   "source": [
    "#### Try building a model with 3rd party data.\n",
    "\n",
    "Import the dataset again but this time keep the 3rd party data."
   ]
  },
  {
   "cell_type": "code",
   "execution_count": 20,
   "metadata": {},
   "outputs": [],
   "source": [
    "# Import the dataset again to include the 3rd party data.\n",
    "df_include_party = pd.read_csv(\"cleaned_case_study_data.csv\", dtype={\"lead_segment_20_c\":\"str\"})\n",
    "\n",
    "df_party_train, df_party_test = train_test_split(\n",
    "    df_include_party, test_size=0.2,random_state=13\n",
    "    )"
   ]
  },
  {
   "cell_type": "code",
   "execution_count": 21,
   "metadata": {},
   "outputs": [],
   "source": [
    "# Gather features - transforming categorical.\n",
    "# Gather target.\n",
    "\n",
    "X_categorical = df_party_train[[\n",
    "    \"lead_segment_20_c\", \"dental_condition_consolidated\", \n",
    "    \"has_email\", \"in_market\", \"created_by_channel\",\n",
    "    \"sched_source\", \"apt_date_day\"\n",
    "    ]]\n",
    "X_categorical = pd.get_dummies(X_categorical, drop_first=True)\n",
    "\n",
    "X_numeric = df_party_train[[\n",
    "    \"apts_in_next_seven_c\", \"distance_to_center_conslidated\", \n",
    "    \"apt_hour\", \"num_campaigns\",\n",
    "    \"days_created_to_scheduling\", \"days_created_to_appointment\", \n",
    "    \"days_scheduling_to_appointment\",\n",
    "    \"estimated_income_min_c\",\n",
    "    \"estimated_income_max_c\",\n",
    "    \"economic_stability_indicator_c\",\n",
    "    \"total_liquid_investible_assets_c\",\n",
    "    \"atp_value\", \"affluence_index_value\",\n",
    "    \"income_360_value\",\n",
    "    \"vantage_score_neighborhood_risk_score_value\"\n",
    "    ]]\n",
    "\n",
    "X_party = pd.merge(X_numeric, X_categorical, left_index=True, right_index=True)\n",
    "\n",
    "\n",
    "y_party = df_party_train[\"is_arrived\"]"
   ]
  },
  {
   "cell_type": "code",
   "execution_count": 22,
   "metadata": {},
   "outputs": [
    {
     "name": "stdout",
     "output_type": "stream",
     "text": [
      "Accuracy: 78.5%\n",
      "Recall: 33.7%\n",
      "Precision: 66.4%\n",
      "F1: 44.7%\n"
     ]
    }
   ],
   "source": [
    "# Basic XG Boost model with 3rd party features.\n",
    "\n",
    "xgb_model = XGBClassifier(random_state=13)\n",
    "\n",
    "print(report_model_cv_metrics(model=xgb_model, X = X_party, y=y_party))"
   ]
  },
  {
   "cell_type": "code",
   "execution_count": null,
   "metadata": {},
   "outputs": [],
   "source": []
  },
  {
   "attachments": {},
   "cell_type": "markdown",
   "metadata": {},
   "source": [
    "#### Explore feature importance and do some feature selection."
   ]
  },
  {
   "cell_type": "code",
   "execution_count": 23,
   "metadata": {},
   "outputs": [
    {
     "data": {
      "image/png": "[encoded data removed]",
      "text/plain": [
       "<Figure size 432x360 with 1 Axes>"
      ]
     },
     "metadata": {
      "needs_background": "light"
     },
     "output_type": "display_data"
    }
   ],
   "source": [
    "# Fit the model.\n",
    "xgb_model = XGBClassifier(random_state=13)\n",
    "xgb_model.fit(X_party, y_party)\n",
    "\n",
    "\n",
    "# Graph the bottom 10 features (by importance).\n",
    "fig,ax = plt.subplots(figsize=(6,5))\n",
    "\n",
    "feat_importances = pd.Series(xgb_model.feature_importances_, index=X_party.columns)\n",
    "feat_importances.nsmallest(10).sort_values().plot(kind='barh', color=\"green\")\n",
    "\n",
    "plt.xlabel(\"Feature Importance\", weight=\"bold\")\n",
    "plt.title(\"Top 10 LEAST Important Model Features\", weight=\"bold\");"
   ]
  },
  {
   "cell_type": "code",
   "execution_count": 24,
   "metadata": {},
   "outputs": [
    {
     "name": "stdout",
     "output_type": "stream",
     "text": [
      "Accuracy: 78.3%\n",
      "Recall: 33.1%\n",
      "Precision: 66.0%\n",
      "F1: 44.0%\n"
     ]
    }
   ],
   "source": [
    "# Try dropping dental_condition_consolidated, apt_date_day, and created_by_channel.\n",
    "\n",
    "X_categorical = df_party_train[[\n",
    "    \"lead_segment_20_c\", \n",
    "    # \"dental_condition_consolidated\", \n",
    "    \"has_email\", \"in_market\", \n",
    "    # \"created_by_channel\", \"apt_date_day\"\n",
    "    \"sched_source\"\n",
    "    ]]\n",
    "X_categorical = pd.get_dummies(X_categorical, drop_first=True)\n",
    "\n",
    "X_numeric = df_party_train[[\n",
    "    \"apts_in_next_seven_c\", \"distance_to_center_conslidated\", \n",
    "    \"apt_hour\", \"num_campaigns\",\n",
    "    \"days_created_to_scheduling\", \"days_created_to_appointment\", \n",
    "    \"days_scheduling_to_appointment\",\n",
    "    \"estimated_income_min_c\",\n",
    "    \"estimated_income_max_c\",\n",
    "    \"economic_stability_indicator_c\",\n",
    "    \"total_liquid_investible_assets_c\",\n",
    "    \"atp_value\", \"affluence_index_value\",\n",
    "    \"income_360_value\",\n",
    "    \"vantage_score_neighborhood_risk_score_value\"\n",
    "    ]]\n",
    "\n",
    "X = pd.merge(X_numeric, X_categorical, left_index=True, right_index=True)\n",
    "\n",
    "y = df_party_train[\"is_arrived\"]\n",
    "\n",
    "\n",
    "# Test the model.\n",
    "xgb_model = XGBClassifier(random_state=13)\n",
    "\n",
    "print(report_model_cv_metrics(model=xgb_model, X = X, y=y))"
   ]
  },
  {
   "cell_type": "code",
   "execution_count": 25,
   "metadata": {},
   "outputs": [
    {
     "name": "stdout",
     "output_type": "stream",
     "text": [
      "Accuracy: 78.3%\n",
      "Recall: 32.9%\n",
      "Precision: 66.0%\n",
      "F1: 43.9%\n"
     ]
    }
   ],
   "source": [
    "# Try dropping lead_segment_20_c.\n",
    "\n",
    "X_categorical = df_party_train[[\n",
    "    # \"lead_segment_20_c\", \n",
    "    # \"dental_condition_consolidated\", \n",
    "    \"has_email\", \"in_market\", \n",
    "    # \"created_by_channel\", \"apt_date_day\"\n",
    "    \"sched_source\"\n",
    "    ]]\n",
    "X_categorical = pd.get_dummies(X_categorical, drop_first=True)\n",
    "\n",
    "X_numeric = df_party_train[[\n",
    "    \"apts_in_next_seven_c\", \"distance_to_center_conslidated\", \n",
    "    \"apt_hour\", \"num_campaigns\",\n",
    "    \"days_created_to_scheduling\", \"days_created_to_appointment\", \n",
    "    \"days_scheduling_to_appointment\",\n",
    "    \"estimated_income_min_c\",\n",
    "    \"estimated_income_max_c\",\n",
    "    \"economic_stability_indicator_c\",\n",
    "    \"total_liquid_investible_assets_c\",\n",
    "    \"atp_value\", \"affluence_index_value\",\n",
    "    \"income_360_value\",\n",
    "    \"vantage_score_neighborhood_risk_score_value\"\n",
    "    ]]\n",
    "\n",
    "X = pd.merge(X_numeric, X_categorical, left_index=True, right_index=True)\n",
    "\n",
    "y = df_party_train[\"is_arrived\"]\n",
    "\n",
    "\n",
    "# Test the model.\n",
    "xgb_model = XGBClassifier(random_state=13)\n",
    "\n",
    "print(report_model_cv_metrics(model=xgb_model, X = X, y=y))"
   ]
  },
  {
   "cell_type": "code",
   "execution_count": 26,
   "metadata": {},
   "outputs": [
    {
     "name": "stdout",
     "output_type": "stream",
     "text": [
      "Accuracy: 78.4%\n",
      "Recall: 33.4%\n",
      "Precision: 66.2%\n",
      "F1: 44.4%\n"
     ]
    }
   ],
   "source": [
    "# Try also dropping some of the less important numeric features. \n",
    "\n",
    "X_categorical = df_party_train[[\n",
    "    # \"lead_segment_20_c\", \n",
    "    # \"dental_condition_consolidated\", \n",
    "    \"has_email\", \"in_market\", \n",
    "    # \"created_by_channel\", \"apt_date_day\"\n",
    "    \"sched_source\"\n",
    "    ]]\n",
    "X_categorical = pd.get_dummies(X_categorical, drop_first=True)\n",
    "\n",
    "X_numeric = df_party_train[[\n",
    "    \"apts_in_next_seven_c\", \"distance_to_center_conslidated\", \n",
    "    # \"apt_hour\",\n",
    "    \"num_campaigns\",\n",
    "    \"days_created_to_scheduling\", \"days_created_to_appointment\", \n",
    "    \"days_scheduling_to_appointment\",\n",
    "    # \"estimated_income_min_c\",\n",
    "    \"estimated_income_max_c\",\n",
    "    \"economic_stability_indicator_c\",\n",
    "    # \"total_liquid_investible_assets_c\",\n",
    "    \"atp_value\", \"affluence_index_value\",\n",
    "    # \"income_360_value\",\n",
    "    \"vantage_score_neighborhood_risk_score_value\"\n",
    "    ]]\n",
    "\n",
    "X = pd.merge(X_numeric, X_categorical, left_index=True, right_index=True)\n",
    "\n",
    "y = df_party_train[\"is_arrived\"]\n",
    "\n",
    "\n",
    "# Test the model.\n",
    "xgb_model = XGBClassifier(random_state=13)\n",
    "\n",
    "print(report_model_cv_metrics(model=xgb_model, X = X, y=y))"
   ]
  },
  {
   "cell_type": "code",
   "execution_count": 27,
   "metadata": {},
   "outputs": [
    {
     "name": "stdout",
     "output_type": "stream",
     "text": [
      "Accuracy: 78.4%\n",
      "Recall: 33.4%\n",
      "Precision: 66.5%\n",
      "F1: 44.5%\n"
     ]
    }
   ],
   "source": [
    "# Redo the best XG Boost model (that doesn't include 3rd party data) on the full dataset for a fairer comparison.\n",
    "\n",
    "X_categorical = df_party_train[[\n",
    "    \"lead_segment_20_c\", \"dental_condition_consolidated\", \n",
    "    \"has_email\", \"in_market\", \"created_by_channel\",\n",
    "    \"sched_source\", \"apt_date_day\"\n",
    "    ]]\n",
    "X_categorical = pd.get_dummies(X_categorical, drop_first=True)\n",
    "\n",
    "X_numeric = df_party_train[[\n",
    "    \"apts_in_next_seven_c\", \"distance_to_center_conslidated\", \n",
    "    \"apt_hour\", \"num_campaigns\",\n",
    "    \"days_created_to_scheduling\", \"days_created_to_appointment\", \n",
    "    \"days_scheduling_to_appointment\"\n",
    "    ]]\n",
    "\n",
    "X = pd.merge(X_numeric, X_categorical, left_index=True, right_index=True)\n",
    "\n",
    "\n",
    "y = df_party_train[\"is_arrived\"]\n",
    "\n",
    "# Test the model.\n",
    "xgb_model = XGBClassifier(random_state=13)\n",
    "\n",
    "print(report_model_cv_metrics(model=xgb_model, X = X, y=y))"
   ]
  },
  {
   "cell_type": "code",
   "execution_count": null,
   "metadata": {},
   "outputs": [],
   "source": []
  },
  {
   "attachments": {},
   "cell_type": "markdown",
   "metadata": {},
   "source": [
    "#### Grid search to optimize (some) XG Boost hyperparameters."
   ]
  },
  {
   "cell_type": "code",
   "execution_count": 28,
   "metadata": {},
   "outputs": [],
   "source": [
    "# Gather up the final features of interst.\n",
    "\n",
    "X_categorical = df_party_train[[\n",
    "    \"lead_segment_20_c\", \"dental_condition_consolidated\", \n",
    "    \"has_email\", \"in_market\", \"created_by_channel\",\n",
    "    \"sched_source\", \"apt_date_day\"\n",
    "    ]]\n",
    "X_categorical = pd.get_dummies(X_categorical, drop_first=True)\n",
    "\n",
    "X_numeric = df_party_train[[\n",
    "    \"apts_in_next_seven_c\", \"distance_to_center_conslidated\", \n",
    "    \"apt_hour\", \"num_campaigns\",\n",
    "    \"days_created_to_scheduling\", \"days_created_to_appointment\", \n",
    "    \"days_scheduling_to_appointment\"\n",
    "    ]]\n",
    "\n",
    "X = pd.merge(X_numeric, X_categorical, left_index=True, right_index=True)\n",
    "\n",
    "y = df_party_train[\"is_arrived\"]"
   ]
  },
  {
   "cell_type": "code",
   "execution_count": 29,
   "metadata": {},
   "outputs": [
    {
     "name": "stdout",
     "output_type": "stream",
     "text": [
      "Fitting 2 folds for each of 36 candidates, totalling 72 fits\n",
      "Best Precision: 73.6%\n",
      "{'gamma': 0.2, 'learning_rate': 0.05, 'max_depth': 6, 'subsample': 0.75}\n"
     ]
    }
   ],
   "source": [
    "xgb_model = XGBClassifier(random_state=13)\n",
    "\n",
    "parameters = {\n",
    "    \"subsample\": [0.75, 1],\n",
    "    \"max_depth\": (6, 8, 10),\n",
    "    \"learning_rate\": [0.1, 0.01, 0.05],\n",
    "    \"gamma\": [0, 0.2]\n",
    "}\n",
    "\n",
    "\n",
    "xgb_grid = GridSearchCV(\n",
    "    estimator=xgb_model,\n",
    "    param_grid=parameters,\n",
    "    scoring=\"precision\", #false pos rather than false neg are the bigger burden. \n",
    "    n_jobs=-1,\n",
    "    cv=2,\n",
    "    verbose=True\n",
    "    )\n",
    "\n",
    "xgb_grid.fit(X, y)\n",
    "\n",
    "print(f\"Best Precision: {abs(rand_forest_grid.best_score_):.1%}\")\n",
    "print(xgb_grid.best_params_)\n"
   ]
  },
  {
   "cell_type": "code",
   "execution_count": 31,
   "metadata": {},
   "outputs": [
    {
     "name": "stdout",
     "output_type": "stream",
     "text": [
      "Accuracy: 78.5%\n",
      "Recall: 29.9%\n",
      "Precision: 69.7%\n",
      "F1: 41.8%\n"
     ]
    }
   ],
   "source": [
    "# Tuned XG Boost model.\n",
    "\n",
    "xgb_model_tuned = XGBClassifier(\n",
    "    subsample=0.75,\n",
    "    max_depth=6,\n",
    "    learning_rate=0.05,\n",
    "    gamma=0.2,\n",
    "    random_state=13\n",
    "    )\n",
    "\n",
    "print(report_model_cv_metrics(model=xgb_model_tuned, X = X, y=y))\n"
   ]
  },
  {
   "cell_type": "code",
   "execution_count": null,
   "metadata": {},
   "outputs": [],
   "source": []
  },
  {
   "attachments": {},
   "cell_type": "markdown",
   "metadata": {},
   "source": [
    "## Build Final Model and Assess Performance on Holdout Data."
   ]
  },
  {
   "cell_type": "code",
   "execution_count": 32,
   "metadata": {},
   "outputs": [],
   "source": [
    "# Redo the training data to ensure it's correct for final testing.\n",
    "\n",
    "X_train_categorical = df_party_train[[\n",
    "    \"lead_segment_20_c\", \"dental_condition_consolidated\", \n",
    "    \"has_email\", \"in_market\", \"created_by_channel\",\n",
    "    \"sched_source\", \"apt_date_day\"\n",
    "    ]]\n",
    "X_train_categorical = pd.get_dummies(X_train_categorical, drop_first=True)\n",
    "\n",
    "X_train_numeric = df_party_train[[\n",
    "    \"apts_in_next_seven_c\", \"distance_to_center_conslidated\", \n",
    "    \"apt_hour\", \"num_campaigns\",\n",
    "    \"days_created_to_scheduling\", \"days_created_to_appointment\", \n",
    "    \"days_scheduling_to_appointment\"\n",
    "    ]]\n",
    "\n",
    "X_train = pd.merge(X_train_numeric, X_train_categorical, left_index=True, right_index=True)\n",
    "\n",
    "\n",
    "y_train = df_party_train[\"is_arrived\"]"
   ]
  },
  {
   "cell_type": "code",
   "execution_count": 33,
   "metadata": {},
   "outputs": [],
   "source": [
    "# Need to prep the test dataset for analysis.\n",
    "\n",
    "X_test_categorical = df_party_test[[\n",
    "    \"lead_segment_20_c\", \"dental_condition_consolidated\", \n",
    "    \"has_email\", \"in_market\", \"created_by_channel\",\n",
    "    \"sched_source\", \"apt_date_day\"\n",
    "    ]]\n",
    "X_test_categorical = pd.get_dummies(X_test_categorical, drop_first=True)\n",
    "\n",
    "\n",
    "X_test_numeric = df_party_test[[\n",
    "    \"apts_in_next_seven_c\", \"distance_to_center_conslidated\", \n",
    "    \"apt_hour\", \"num_campaigns\",\n",
    "    \"days_created_to_scheduling\", \"days_created_to_appointment\", \n",
    "    \"days_scheduling_to_appointment\"\n",
    "    ]]\n",
    "\n",
    "X_test = pd.merge(X_test_numeric, X_test_categorical, left_index=True, right_index=True)\n",
    "\n",
    "# Have to make sure the same features are included in the train and test datasets.\n",
    "# First, remove potential extra columns.\n",
    "need_to_remove = list(set(X_test.columns).difference(set(X_train.columns)))\n",
    "X_test_categorical = X_test.drop(columns=need_to_remove)\n",
    "# Next, add any needed columns.\n",
    "need_to_add = set(X_train.columns).difference(set(X_test.columns))\n",
    "for col in need_to_add:\n",
    "    X_test[col] = 0\n",
    "# Last, make order the same.\n",
    "X_test = X_test[X_train.columns]\n",
    "\n",
    "\n",
    "y_test = df_party_test[\"is_arrived\"]\n"
   ]
  },
  {
   "cell_type": "code",
   "execution_count": 34,
   "metadata": {},
   "outputs": [],
   "source": [
    "# Fit the model on the full training dataset then predict values from the test data.\n",
    "\n",
    "final_model = XGBClassifier(random_state=13)\n",
    "final_model.fit(X_train, y_train)\n",
    "\n",
    "\n",
    "y_predicted = final_model.predict(X_test)"
   ]
  },
  {
   "cell_type": "code",
   "execution_count": 35,
   "metadata": {},
   "outputs": [
    {
     "name": "stdout",
     "output_type": "stream",
     "text": [
      "Accuracy: 78.5%\n",
      "Recall: 34.1%\n",
      "Precision: 67.8%\n",
      "F1: 45.3%\n"
     ]
    }
   ],
   "source": [
    "# Assess model performance on the test data.\n",
    "\n",
    "print(f\"Accuracy: {accuracy_score(y_test, y_predicted):.1%}\")\n",
    "print(f\"Recall: {recall_score(y_test, y_predicted):.1%}\")\n",
    "print(f\"Precision: {precision_score(y_test, y_predicted):.1%}\")\n",
    "print(f\"F1: {f1_score(y_test, y_predicted):.1%}\")"
   ]
  },
  {
   "cell_type": "code",
   "execution_count": 36,
   "metadata": {},
   "outputs": [
    {
     "data": {
      "image/png": "[encoded data removed]",
      "text/plain": [
       "<Figure size 360x360 with 2 Axes>"
      ]
     },
     "metadata": {
      "needs_background": "light"
     },
     "output_type": "display_data"
    }
   ],
   "source": [
    "# Create a confusion matrix.\n",
    "\n",
    "fig,ax = plt.subplots(figsize=(5,5))\n",
    "\n",
    "confusion = confusion_matrix(y_test, y_predicted)\n",
    "sns.heatmap(confusion, cmap=plt.cm.Blues, annot=True, square=True, fmt='d',\n",
    "            xticklabels=[\"No Show\", \"Arrived\"],\n",
    "            yticklabels=[\"No Show\", \"Arrived\"])\n",
    "\n",
    "plt.xlabel(\"Predicted Arrivals Category\", weight=\"bold\")\n",
    "plt.ylabel(\"Actual Arrivals Category\", weight=\"bold\")\n",
    "plt.title(\"Confusion Matrix\", weight=\"bold\");"
   ]
  },
  {
   "cell_type": "code",
   "execution_count": 37,
   "metadata": {},
   "outputs": [
    {
     "name": "stdout",
     "output_type": "stream",
     "text": [
      "Percentage of ACTUAL arrivals (test data): 26.1%\n",
      "Percentage of PREDICTED arrivals (test data): 13.1%\n"
     ]
    }
   ],
   "source": [
    "print(f\"Percentage of ACTUAL arrivals (test data): {len(y_test[y_test == 1]) / len(y_test):.1%}\")\n",
    "print(f\"Percentage of PREDICTED arrivals (test data): {len(y_predicted[y_predicted == 1]) / len(y_predicted):.1%}\")"
   ]
  },
  {
   "cell_type": "code",
   "execution_count": 38,
   "metadata": {},
   "outputs": [
    {
     "data": {
      "image/png": "[encoded data removed]",
      "text/plain": [
       "<Figure size 432x360 with 1 Axes>"
      ]
     },
     "metadata": {
      "needs_background": "light"
     },
     "output_type": "display_data"
    }
   ],
   "source": [
    "fig,ax = plt.subplots(figsize=(6,5))\n",
    "\n",
    "feat_importances = pd.Series(final_model.feature_importances_, index=X_test.columns)\n",
    "feat_importances.nlargest(10).sort_values().plot(kind='barh')\n",
    "\n",
    "plt.xlabel(\"Feature Importance\", weight=\"bold\")\n",
    "plt.title(\"Top 10 MOST Important Model Features\", weight=\"bold\");"
   ]
  },
  {
   "cell_type": "code",
   "execution_count": 39,
   "metadata": {},
   "outputs": [
    {
     "data": {
      "image/png": "[encoded data removed]",
      "text/plain": [
       "<Figure size 432x360 with 1 Axes>"
      ]
     },
     "metadata": {
      "needs_background": "light"
     },
     "output_type": "display_data"
    }
   ],
   "source": [
    "fig,ax = plt.subplots(figsize=(6,5))\n",
    "\n",
    "feat_importances = pd.Series(final_model.feature_importances_, index=X_test.columns)\n",
    "feat_importances.nsmallest(10).sort_values().plot(kind='barh', color=\"green\")\n",
    "\n",
    "plt.xlabel(\"Feature Importance\", weight=\"bold\")\n",
    "plt.title(\"Top 10 LEAST Important Model Features\", weight=\"bold\");"
   ]
  },
  {
   "cell_type": "code",
   "execution_count": 43,
   "metadata": {},
   "outputs": [
    {
     "data": {
      "image/png": "[encoded data removed]",
      "text/plain": [
       "<Figure size 576x684 with 2 Axes>"
      ]
     },
     "metadata": {
      "needs_background": "light"
     },
     "output_type": "display_data"
    }
   ],
   "source": [
    "# Explore SHAP values to understand how the features contribute to predictions of attendance.\n",
    "import shap\n",
    "\n",
    "explainer = shap.TreeExplainer(final_model)\n",
    "shap_values = explainer.shap_values(X_test)\n",
    "\n",
    "shap.summary_plot(shap_values, X_test)\n",
    "\n"
   ]
  },
  {
   "cell_type": "code",
   "execution_count": null,
   "metadata": {},
   "outputs": [],
   "source": []
  },
  {
   "cell_type": "code",
   "execution_count": null,
   "metadata": {},
   "outputs": [],
   "source": []
  }
 ],
 "metadata": {
  "kernelspec": {
   "display_name": "base",
   "language": "python",
   "name": "python3"
  },
  "language_info": {
   "codemirror_mode": {
    "name": "ipython",
    "version": 3
   },
   "file_extension": ".py",
   "mimetype": "text/x-python",
   "name": "python",
   "nbconvert_exporter": "python",
   "pygments_lexer": "ipython3",
   "version": "3.9.12"
  },
  "orig_nbformat": 4
 },
 "nbformat": 4,
 "nbformat_minor": 2
}
